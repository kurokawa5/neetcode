{
  "nbformat": 4,
  "nbformat_minor": 0,
  "metadata": {
    "colab": {
      "provenance": [],
      "authorship_tag": "ABX9TyPksxWryNNZmg5vBU+BZ25K",
      "include_colab_link": true
    },
    "kernelspec": {
      "name": "python3",
      "display_name": "Python 3"
    },
    "language_info": {
      "name": "python"
    }
  },
  "cells": [
    {
      "cell_type": "markdown",
      "metadata": {
        "id": "view-in-github",
        "colab_type": "text"
      },
      "source": [
        "<a href=\"https://colab.research.google.com/github/kurokawa5/neetcode/blob/main/04_stack/20_valid_parentheses.ipynb\" target=\"_parent\"><img src=\"https://colab.research.google.com/assets/colab-badge.svg\" alt=\"Open In Colab\"/></a>"
      ]
    },
    {
      "cell_type": "code",
      "source": [
        "#s = \"()\"\n",
        "#s = \"()[]{}\"\n",
        "s = \"(]\"\n",
        "dict = {')': '(', ']':'[', '}': '{'}\n",
        "stack = []"
      ],
      "metadata": {
        "id": "qDYsStXdyZ42"
      },
      "execution_count": null,
      "outputs": []
    },
    {
      "cell_type": "code",
      "execution_count": null,
      "metadata": {
        "colab": {
          "base_uri": "https://localhost:8080/"
        },
        "id": "gCh7BdaxyXlh",
        "outputId": "a30d66db-5117-4b0e-8f65-b3cac0bbee79"
      },
      "outputs": [
        {
          "output_type": "stream",
          "name": "stdout",
          "text": [
            "c (\n",
            "c ]\n",
            "False\n",
            "False\n"
          ]
        }
      ],
      "source": [
        "for c in s:\n",
        "  print(\"c\", c)\n",
        "  if c in dict.values():\n",
        "    stack.append(c)\n",
        "  elif stack != [] and dict[c] == stack[-1]:\n",
        "      print(\"dict[c]\",dict[c])\n",
        "      print(\"stack[-1]\", stack[-1])\n",
        "      stack.pop()\n",
        "  else:\n",
        "      print(False)\n",
        "print(stack == [])"
      ]
    },
    {
      "cell_type": "code",
      "source": [],
      "metadata": {
        "id": "QiuqTnbgyoDD"
      },
      "execution_count": null,
      "outputs": []
    }
  ]
}